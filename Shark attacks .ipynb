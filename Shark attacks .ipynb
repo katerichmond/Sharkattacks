{
 "cells": [
  {
   "cell_type": "code",
   "execution_count": 1,
   "id": "0660c45c",
   "metadata": {},
   "outputs": [],
   "source": [
    "import pandas as pd\n",
    "import matplotlib.pyplot as plt\n",
    "import numpy as np"
   ]
  },
  {
   "cell_type": "code",
   "execution_count": 2,
   "id": "2331982f",
   "metadata": {},
   "outputs": [],
   "source": [
    "shark_df = pd.read_csv(r'C:\\Users\\User\\Downloads\\archive\\attacks.csv', encoding='latin-1')"
   ]
  },
  {
   "cell_type": "code",
   "execution_count": 3,
   "id": "2b5999ba",
   "metadata": {},
   "outputs": [
    {
     "data": {
      "text/html": [
       "<div>\n",
       "<style scoped>\n",
       "    .dataframe tbody tr th:only-of-type {\n",
       "        vertical-align: middle;\n",
       "    }\n",
       "\n",
       "    .dataframe tbody tr th {\n",
       "        vertical-align: top;\n",
       "    }\n",
       "\n",
       "    .dataframe thead th {\n",
       "        text-align: right;\n",
       "    }\n",
       "</style>\n",
       "<table border=\"1\" class=\"dataframe\">\n",
       "  <thead>\n",
       "    <tr style=\"text-align: right;\">\n",
       "      <th></th>\n",
       "      <th>Case Number</th>\n",
       "      <th>Date</th>\n",
       "      <th>Year</th>\n",
       "      <th>Type</th>\n",
       "      <th>Country</th>\n",
       "      <th>Area</th>\n",
       "      <th>Location</th>\n",
       "      <th>Activity</th>\n",
       "      <th>Name</th>\n",
       "      <th>Sex</th>\n",
       "      <th>...</th>\n",
       "      <th>Fatal (Y/N)</th>\n",
       "      <th>Time</th>\n",
       "      <th>Species</th>\n",
       "      <th>Investigator or Source</th>\n",
       "      <th>pdf</th>\n",
       "      <th>href formula</th>\n",
       "      <th>href</th>\n",
       "      <th>Case Number.1</th>\n",
       "      <th>Case Number.2</th>\n",
       "      <th>original order</th>\n",
       "    </tr>\n",
       "  </thead>\n",
       "  <tbody>\n",
       "    <tr>\n",
       "      <th>0</th>\n",
       "      <td>2017.06.11</td>\n",
       "      <td>2017-06-11</td>\n",
       "      <td>2017.0</td>\n",
       "      <td>Unprovoked</td>\n",
       "      <td>AUSTRALIA</td>\n",
       "      <td>Western Australia</td>\n",
       "      <td>Point Casuarina, Bunbury</td>\n",
       "      <td>Body boarding</td>\n",
       "      <td>Paul Goff</td>\n",
       "      <td>M</td>\n",
       "      <td>...</td>\n",
       "      <td>N</td>\n",
       "      <td>08h30</td>\n",
       "      <td>White shark, 4 m</td>\n",
       "      <td>WA Today, 6/11/2017</td>\n",
       "      <td>2017.06.11-Goff.pdf</td>\n",
       "      <td>http://sharkattackfile.net/spreadsheets/pdf_di...</td>\n",
       "      <td>http://sharkattackfile.net/spreadsheets/pdf_di...</td>\n",
       "      <td>2017.06.11</td>\n",
       "      <td>2017.06.11</td>\n",
       "      <td>6095.0</td>\n",
       "    </tr>\n",
       "    <tr>\n",
       "      <th>1</th>\n",
       "      <td>2017.06.10.b</td>\n",
       "      <td>2017-06-10</td>\n",
       "      <td>2017.0</td>\n",
       "      <td>Unprovoked</td>\n",
       "      <td>AUSTRALIA</td>\n",
       "      <td>Victoria</td>\n",
       "      <td>Flinders, Mornington Penisula</td>\n",
       "      <td>Surfing</td>\n",
       "      <td>female</td>\n",
       "      <td>F</td>\n",
       "      <td>...</td>\n",
       "      <td>N</td>\n",
       "      <td>15h45</td>\n",
       "      <td>7 gill shark</td>\n",
       "      <td>NaN</td>\n",
       "      <td>2017.06.10.b-Flinders.pdf</td>\n",
       "      <td>http://sharkattackfile.net/spreadsheets/pdf_di...</td>\n",
       "      <td>http://sharkattackfile.net/spreadsheets/pdf_di...</td>\n",
       "      <td>2017.06.10.b</td>\n",
       "      <td>2017.06.10.b</td>\n",
       "      <td>6094.0</td>\n",
       "    </tr>\n",
       "    <tr>\n",
       "      <th>2</th>\n",
       "      <td>2017.06.10.a</td>\n",
       "      <td>2017-06-10</td>\n",
       "      <td>2017.0</td>\n",
       "      <td>Unprovoked</td>\n",
       "      <td>USA</td>\n",
       "      <td>Florida</td>\n",
       "      <td>Ponce Inlet, Volusia County</td>\n",
       "      <td>Surfing</td>\n",
       "      <td>Bryan Brock</td>\n",
       "      <td>M</td>\n",
       "      <td>...</td>\n",
       "      <td>N</td>\n",
       "      <td>10h00</td>\n",
       "      <td>NaN</td>\n",
       "      <td>Daytona Beach News-Journal, 6/10/2017</td>\n",
       "      <td>2017.06.10.a-Brock.pdf</td>\n",
       "      <td>http://sharkattackfile.net/spreadsheets/pdf_di...</td>\n",
       "      <td>http://sharkattackfile.net/spreadsheets/pdf_di...</td>\n",
       "      <td>2017.06.10.a</td>\n",
       "      <td>2017.06.10.a</td>\n",
       "      <td>6093.0</td>\n",
       "    </tr>\n",
       "    <tr>\n",
       "      <th>3</th>\n",
       "      <td>2017.06.07.R</td>\n",
       "      <td>Reported 07-Jun-2017</td>\n",
       "      <td>2017.0</td>\n",
       "      <td>Unprovoked</td>\n",
       "      <td>UNITED KINGDOM</td>\n",
       "      <td>South Devon</td>\n",
       "      <td>Bantham Beach</td>\n",
       "      <td>Surfing</td>\n",
       "      <td>Rich Thomson</td>\n",
       "      <td>M</td>\n",
       "      <td>...</td>\n",
       "      <td>N</td>\n",
       "      <td>NaN</td>\n",
       "      <td>3m shark, probably a smooth hound</td>\n",
       "      <td>C. Moore, GSAF</td>\n",
       "      <td>2017.06.07.R-Thomson.pdf</td>\n",
       "      <td>http://sharkattackfile.net/spreadsheets/pdf_di...</td>\n",
       "      <td>http://sharkattackfile.net/spreadsheets/pdf_di...</td>\n",
       "      <td>2017.06.07.R</td>\n",
       "      <td>2017.06.07.R</td>\n",
       "      <td>6092.0</td>\n",
       "    </tr>\n",
       "    <tr>\n",
       "      <th>4</th>\n",
       "      <td>2017.06.04</td>\n",
       "      <td>2017-06-04</td>\n",
       "      <td>2017.0</td>\n",
       "      <td>Unprovoked</td>\n",
       "      <td>USA</td>\n",
       "      <td>Florida</td>\n",
       "      <td>Middle Sambo Reef off Boca Chica, Monroe County</td>\n",
       "      <td>Spearfishing</td>\n",
       "      <td>Parker Simpson</td>\n",
       "      <td>M</td>\n",
       "      <td>...</td>\n",
       "      <td>N</td>\n",
       "      <td>NaN</td>\n",
       "      <td>8' shark</td>\n",
       "      <td>Nine News, 6/7/2017</td>\n",
       "      <td>2017.06.04-Simpson.pdf</td>\n",
       "      <td>http://sharkattackfile.net/spreadsheets/pdf_di...</td>\n",
       "      <td>http://sharkattackfile.net/spreadsheets/pdf_di...</td>\n",
       "      <td>2017.06.04</td>\n",
       "      <td>2017.06.04</td>\n",
       "      <td>6091.0</td>\n",
       "    </tr>\n",
       "  </tbody>\n",
       "</table>\n",
       "<p>5 rows × 22 columns</p>\n",
       "</div>"
      ],
      "text/plain": [
       "    Case Number                  Date    Year        Type         Country  \\\n",
       "0    2017.06.11            2017-06-11  2017.0  Unprovoked       AUSTRALIA   \n",
       "1  2017.06.10.b            2017-06-10  2017.0  Unprovoked       AUSTRALIA   \n",
       "2  2017.06.10.a            2017-06-10  2017.0  Unprovoked             USA   \n",
       "3  2017.06.07.R  Reported 07-Jun-2017  2017.0  Unprovoked  UNITED KINGDOM   \n",
       "4    2017.06.04            2017-06-04  2017.0  Unprovoked             USA   \n",
       "\n",
       "                Area                                         Location  \\\n",
       "0  Western Australia                         Point Casuarina, Bunbury   \n",
       "1           Victoria                    Flinders, Mornington Penisula   \n",
       "2            Florida                      Ponce Inlet, Volusia County   \n",
       "3        South Devon                                    Bantham Beach   \n",
       "4            Florida  Middle Sambo Reef off Boca Chica, Monroe County   \n",
       "\n",
       "        Activity            Name Sex   ... Fatal (Y/N)   Time  \\\n",
       "0  Body boarding       Paul Goff    M  ...           N  08h30   \n",
       "1        Surfing          female    F  ...           N  15h45   \n",
       "2        Surfing     Bryan Brock    M  ...           N  10h00   \n",
       "3       Surfing     Rich Thomson    M  ...           N    NaN   \n",
       "4   Spearfishing  Parker Simpson    M  ...           N    NaN   \n",
       "\n",
       "                            Species                  Investigator or Source  \\\n",
       "0                   White shark, 4 m                    WA Today, 6/11/2017   \n",
       "1                       7 gill shark                                    NaN   \n",
       "2                                NaN  Daytona Beach News-Journal, 6/10/2017   \n",
       "3  3m shark, probably a smooth hound                         C. Moore, GSAF   \n",
       "4                           8' shark                    Nine News, 6/7/2017   \n",
       "\n",
       "                         pdf  \\\n",
       "0        2017.06.11-Goff.pdf   \n",
       "1  2017.06.10.b-Flinders.pdf   \n",
       "2     2017.06.10.a-Brock.pdf   \n",
       "3   2017.06.07.R-Thomson.pdf   \n",
       "4     2017.06.04-Simpson.pdf   \n",
       "\n",
       "                                        href formula  \\\n",
       "0  http://sharkattackfile.net/spreadsheets/pdf_di...   \n",
       "1  http://sharkattackfile.net/spreadsheets/pdf_di...   \n",
       "2  http://sharkattackfile.net/spreadsheets/pdf_di...   \n",
       "3  http://sharkattackfile.net/spreadsheets/pdf_di...   \n",
       "4  http://sharkattackfile.net/spreadsheets/pdf_di...   \n",
       "\n",
       "                                                href Case Number.1  \\\n",
       "0  http://sharkattackfile.net/spreadsheets/pdf_di...    2017.06.11   \n",
       "1  http://sharkattackfile.net/spreadsheets/pdf_di...  2017.06.10.b   \n",
       "2  http://sharkattackfile.net/spreadsheets/pdf_di...  2017.06.10.a   \n",
       "3  http://sharkattackfile.net/spreadsheets/pdf_di...  2017.06.07.R   \n",
       "4  http://sharkattackfile.net/spreadsheets/pdf_di...    2017.06.04   \n",
       "\n",
       "  Case Number.2 original order  \n",
       "0    2017.06.11         6095.0  \n",
       "1  2017.06.10.b         6094.0  \n",
       "2  2017.06.10.a         6093.0  \n",
       "3  2017.06.07.R         6092.0  \n",
       "4    2017.06.04         6091.0  \n",
       "\n",
       "[5 rows x 22 columns]"
      ]
     },
     "execution_count": 3,
     "metadata": {},
     "output_type": "execute_result"
    }
   ],
   "source": [
    "shark_df.head()"
   ]
  },
  {
   "cell_type": "code",
   "execution_count": 4,
   "id": "3855c8a5",
   "metadata": {},
   "outputs": [
    {
     "name": "stdout",
     "output_type": "stream",
     "text": [
      "<class 'pandas.core.frame.DataFrame'>\n",
      "RangeIndex: 25614 entries, 0 to 25613\n",
      "Data columns (total 22 columns):\n",
      " #   Column                  Non-Null Count  Dtype  \n",
      "---  ------                  --------------  -----  \n",
      " 0   Case Number             6095 non-null   object \n",
      " 1   Date                    6094 non-null   object \n",
      " 2   Year                    6092 non-null   float64\n",
      " 3   Type                    6090 non-null   object \n",
      " 4   Country                 6048 non-null   object \n",
      " 5   Area                    5682 non-null   object \n",
      " 6   Location                5583 non-null   object \n",
      " 7   Activity                5559 non-null   object \n",
      " 8   Name                    5888 non-null   object \n",
      " 9   Sex                     5517 non-null   object \n",
      " 10  Age                     3374 non-null   object \n",
      " 11  Injury                  6066 non-null   object \n",
      " 12  Fatal (Y/N)             6064 non-null   object \n",
      " 13  Time                    2848 non-null   object \n",
      " 14  Species                 3100 non-null   object \n",
      " 15  Investigator or Source  6077 non-null   object \n",
      " 16  pdf                     6094 non-null   object \n",
      " 17  href formula            6093 non-null   object \n",
      " 18  href                    6093 non-null   object \n",
      " 19  Case Number.1           6094 non-null   object \n",
      " 20  Case Number.2           6094 non-null   object \n",
      " 21  original order          6094 non-null   float64\n",
      "dtypes: float64(2), object(20)\n",
      "memory usage: 4.3+ MB\n"
     ]
    }
   ],
   "source": [
    "shark_df.info()"
   ]
  },
  {
   "cell_type": "code",
   "execution_count": 5,
   "id": "45294317",
   "metadata": {},
   "outputs": [
    {
     "data": {
      "text/plain": [
       "Index(['Case Number', 'Date', 'Year', 'Type', 'Country', 'Area', 'Location',\n",
       "       'Activity', 'Name', 'Sex ', 'Age', 'Injury', 'Fatal (Y/N)', 'Time',\n",
       "       'Species ', 'Investigator or Source', 'pdf', 'href formula', 'href',\n",
       "       'Case Number.1', 'Case Number.2', 'original order'],\n",
       "      dtype='object')"
      ]
     },
     "execution_count": 5,
     "metadata": {},
     "output_type": "execute_result"
    }
   ],
   "source": [
    "shark_df.columns"
   ]
  },
  {
   "cell_type": "code",
   "execution_count": 6,
   "id": "f5ad4d44",
   "metadata": {},
   "outputs": [],
   "source": [
    "columns_to_drop = ['Case Number', 'Area', 'Location', 'Name', 'Time', 'Investigator or Source', 'pdf', 'href formula', 'href', 'Case Number.1', 'Case Number.2', 'original order']\n",
    "shark_df.drop(columns=columns_to_drop, inplace=True)"
   ]
  },
  {
   "cell_type": "code",
   "execution_count": 7,
   "id": "9b4e71c3",
   "metadata": {},
   "outputs": [
    {
     "data": {
      "text/html": [
       "<div>\n",
       "<style scoped>\n",
       "    .dataframe tbody tr th:only-of-type {\n",
       "        vertical-align: middle;\n",
       "    }\n",
       "\n",
       "    .dataframe tbody tr th {\n",
       "        vertical-align: top;\n",
       "    }\n",
       "\n",
       "    .dataframe thead th {\n",
       "        text-align: right;\n",
       "    }\n",
       "</style>\n",
       "<table border=\"1\" class=\"dataframe\">\n",
       "  <thead>\n",
       "    <tr style=\"text-align: right;\">\n",
       "      <th></th>\n",
       "      <th>Date</th>\n",
       "      <th>Year</th>\n",
       "      <th>Type</th>\n",
       "      <th>Country</th>\n",
       "      <th>Activity</th>\n",
       "      <th>Sex</th>\n",
       "      <th>Age</th>\n",
       "      <th>Injury</th>\n",
       "      <th>Fatal (Y/N)</th>\n",
       "      <th>Species</th>\n",
       "    </tr>\n",
       "  </thead>\n",
       "  <tbody>\n",
       "    <tr>\n",
       "      <th>0</th>\n",
       "      <td>2017-06-11</td>\n",
       "      <td>2017.0</td>\n",
       "      <td>Unprovoked</td>\n",
       "      <td>AUSTRALIA</td>\n",
       "      <td>Body boarding</td>\n",
       "      <td>M</td>\n",
       "      <td>48</td>\n",
       "      <td>No injury, board bitten</td>\n",
       "      <td>N</td>\n",
       "      <td>White shark, 4 m</td>\n",
       "    </tr>\n",
       "    <tr>\n",
       "      <th>1</th>\n",
       "      <td>2017-06-10</td>\n",
       "      <td>2017.0</td>\n",
       "      <td>Unprovoked</td>\n",
       "      <td>AUSTRALIA</td>\n",
       "      <td>Surfing</td>\n",
       "      <td>F</td>\n",
       "      <td>NaN</td>\n",
       "      <td>No injury, knocke off board</td>\n",
       "      <td>N</td>\n",
       "      <td>7 gill shark</td>\n",
       "    </tr>\n",
       "    <tr>\n",
       "      <th>2</th>\n",
       "      <td>2017-06-10</td>\n",
       "      <td>2017.0</td>\n",
       "      <td>Unprovoked</td>\n",
       "      <td>USA</td>\n",
       "      <td>Surfing</td>\n",
       "      <td>M</td>\n",
       "      <td>19</td>\n",
       "      <td>Laceration to left foot</td>\n",
       "      <td>N</td>\n",
       "      <td>NaN</td>\n",
       "    </tr>\n",
       "    <tr>\n",
       "      <th>3</th>\n",
       "      <td>Reported 07-Jun-2017</td>\n",
       "      <td>2017.0</td>\n",
       "      <td>Unprovoked</td>\n",
       "      <td>UNITED KINGDOM</td>\n",
       "      <td>Surfing</td>\n",
       "      <td>M</td>\n",
       "      <td>30</td>\n",
       "      <td>Bruise to leg, cuts to hand sustained when he ...</td>\n",
       "      <td>N</td>\n",
       "      <td>3m shark, probably a smooth hound</td>\n",
       "    </tr>\n",
       "    <tr>\n",
       "      <th>4</th>\n",
       "      <td>2017-06-04</td>\n",
       "      <td>2017.0</td>\n",
       "      <td>Unprovoked</td>\n",
       "      <td>USA</td>\n",
       "      <td>Spearfishing</td>\n",
       "      <td>M</td>\n",
       "      <td>NaN</td>\n",
       "      <td>Laceration to shin</td>\n",
       "      <td>N</td>\n",
       "      <td>8' shark</td>\n",
       "    </tr>\n",
       "  </tbody>\n",
       "</table>\n",
       "</div>"
      ],
      "text/plain": [
       "                   Date    Year        Type         Country       Activity  \\\n",
       "0            2017-06-11  2017.0  Unprovoked       AUSTRALIA  Body boarding   \n",
       "1            2017-06-10  2017.0  Unprovoked       AUSTRALIA        Surfing   \n",
       "2            2017-06-10  2017.0  Unprovoked             USA        Surfing   \n",
       "3  Reported 07-Jun-2017  2017.0  Unprovoked  UNITED KINGDOM       Surfing    \n",
       "4            2017-06-04  2017.0  Unprovoked             USA   Spearfishing   \n",
       "\n",
       "  Sex   Age                                             Injury Fatal (Y/N)  \\\n",
       "0    M   48                            No injury, board bitten           N   \n",
       "1    F  NaN                        No injury, knocke off board           N   \n",
       "2    M   19                            Laceration to left foot           N   \n",
       "3    M   30  Bruise to leg, cuts to hand sustained when he ...           N   \n",
       "4    M  NaN                                 Laceration to shin           N   \n",
       "\n",
       "                            Species   \n",
       "0                   White shark, 4 m  \n",
       "1                       7 gill shark  \n",
       "2                                NaN  \n",
       "3  3m shark, probably a smooth hound  \n",
       "4                           8' shark  "
      ]
     },
     "execution_count": 7,
     "metadata": {},
     "output_type": "execute_result"
    }
   ],
   "source": [
    "shark_df.head()"
   ]
  },
  {
   "cell_type": "code",
   "execution_count": 8,
   "id": "e8ca846f",
   "metadata": {},
   "outputs": [],
   "source": [
    "shark_df.rename(columns={\"Sex \":\"Sex\",\"Species \":\"Species\"},inplace=True)"
   ]
  },
  {
   "cell_type": "code",
   "execution_count": 9,
   "id": "8032b7a8",
   "metadata": {},
   "outputs": [
    {
     "data": {
      "text/plain": [
       "Index(['Date', 'Year', 'Type', 'Country', 'Activity', 'Sex', 'Age', 'Injury',\n",
       "       'Fatal (Y/N)', 'Species'],\n",
       "      dtype='object')"
      ]
     },
     "execution_count": 9,
     "metadata": {},
     "output_type": "execute_result"
    }
   ],
   "source": [
    "shark_df.columns"
   ]
  },
  {
   "cell_type": "code",
   "execution_count": 10,
   "id": "cd26fce7",
   "metadata": {},
   "outputs": [],
   "source": [
    "shark_df.drop_duplicates(keep=False, inplace=True)"
   ]
  },
  {
   "cell_type": "code",
   "execution_count": 11,
   "id": "a33c1da6",
   "metadata": {},
   "outputs": [
    {
     "data": {
      "text/plain": [
       "0"
      ]
     },
     "execution_count": 11,
     "metadata": {},
     "output_type": "execute_result"
    }
   ],
   "source": [
    "shark_df.duplicated().sum()"
   ]
  },
  {
   "cell_type": "code",
   "execution_count": 12,
   "id": "9696e76d",
   "metadata": {},
   "outputs": [],
   "source": [
    "shark_df.dropna(inplace=True)"
   ]
  },
  {
   "cell_type": "code",
   "execution_count": 13,
   "id": "753f8070",
   "metadata": {},
   "outputs": [
    {
     "data": {
      "text/plain": [
       "Year\n",
       "2015.0    89\n",
       "2007.0    64\n",
       "2012.0    64\n",
       "2002.0    59\n",
       "2013.0    56\n",
       "          ..\n",
       "1924.0     1\n",
       "1906.0     1\n",
       "1912.0     1\n",
       "1919.0     1\n",
       "1905.0     1\n",
       "Name: count, Length: 110, dtype: int64"
      ]
     },
     "execution_count": 13,
     "metadata": {},
     "output_type": "execute_result"
    }
   ],
   "source": [
    "shark_df['Year'].value_counts()"
   ]
  },
  {
   "cell_type": "code",
   "execution_count": 14,
   "id": "57da7c8f",
   "metadata": {},
   "outputs": [
    {
     "data": {
      "text/plain": [
       "Fatal (Y/N)\n",
       "N          1644\n",
       "Y           318\n",
       " N            4\n",
       "2017          1\n",
       "UNKNOWN       1\n",
       "Name: count, dtype: int64"
      ]
     },
     "execution_count": 14,
     "metadata": {},
     "output_type": "execute_result"
    }
   ],
   "source": [
    "shark_df['Fatal (Y/N)'].value_counts()"
   ]
  },
  {
   "cell_type": "code",
   "execution_count": 18,
   "id": "d668adfc",
   "metadata": {},
   "outputs": [],
   "source": [
    "shark_df.drop(shark_df[shark_df['Fatal (Y/N)']=='2017'].index,inplace=True)"
   ]
  },
  {
   "cell_type": "code",
   "execution_count": 20,
   "id": "eaffffbe",
   "metadata": {},
   "outputs": [
    {
     "data": {
      "text/plain": [
       "Fatal (Y/N)\n",
       "N          1644\n",
       "Y           318\n",
       " N            4\n",
       "UNKNOWN       1\n",
       "Name: count, dtype: int64"
      ]
     },
     "execution_count": 20,
     "metadata": {},
     "output_type": "execute_result"
    }
   ],
   "source": [
    "shark_df['Fatal (Y/N)'].value_counts()"
   ]
  },
  {
   "cell_type": "code",
   "execution_count": 21,
   "id": "02631baa",
   "metadata": {},
   "outputs": [],
   "source": [
    "shark_df.drop(shark_df[shark_df['Fatal (Y/N)']=='UNKNOWN'].index,inplace=True)"
   ]
  },
  {
   "cell_type": "code",
   "execution_count": 22,
   "id": "0f0fd1fe",
   "metadata": {},
   "outputs": [
    {
     "data": {
      "text/plain": [
       "Fatal (Y/N)\n",
       "N     1644\n",
       "Y      318\n",
       " N       4\n",
       "Name: count, dtype: int64"
      ]
     },
     "execution_count": 22,
     "metadata": {},
     "output_type": "execute_result"
    }
   ],
   "source": [
    "shark_df['Fatal (Y/N)'].value_counts()"
   ]
  },
  {
   "cell_type": "code",
   "execution_count": 23,
   "id": "41f15377",
   "metadata": {},
   "outputs": [],
   "source": [
    "shark_df['Fatal (Y/N)'].mask(shark_df['Fatal (Y/N)'] ==' N','N', inplace=True)"
   ]
  },
  {
   "cell_type": "code",
   "execution_count": 24,
   "id": "1c20a533",
   "metadata": {},
   "outputs": [
    {
     "data": {
      "text/plain": [
       "Fatal (Y/N)\n",
       "N    1648\n",
       "Y     318\n",
       "Name: count, dtype: int64"
      ]
     },
     "execution_count": 24,
     "metadata": {},
     "output_type": "execute_result"
    }
   ],
   "source": [
    "shark_df['Fatal (Y/N)'].value_counts()"
   ]
  },
  {
   "cell_type": "code",
   "execution_count": 25,
   "id": "c3bc5867",
   "metadata": {},
   "outputs": [
    {
     "data": {
      "text/plain": [
       "Sex\n",
       "M      1701\n",
       "F       264\n",
       "lli       1\n",
       "Name: count, dtype: int64"
      ]
     },
     "execution_count": 25,
     "metadata": {},
     "output_type": "execute_result"
    }
   ],
   "source": [
    "shark_df['Sex'].value_counts()"
   ]
  },
  {
   "cell_type": "code",
   "execution_count": 26,
   "id": "c0edbae0",
   "metadata": {},
   "outputs": [],
   "source": [
    "shark_df.drop(shark_df[shark_df['Sex']=='lli'].index,inplace=True)"
   ]
  },
  {
   "cell_type": "code",
   "execution_count": 28,
   "id": "5ed7de85",
   "metadata": {},
   "outputs": [
    {
     "data": {
      "image/png": "[encoded data removed]",
      "text/plain": [
       "<Figure size 1600x400 with 1 Axes>"
      ]
     },
     "metadata": {},
     "output_type": "display_data"
    }
   ],
   "source": [
    "plt.figure(figsize=[16,4])\n",
    "shark_df['Country'].value_counts().head(10).plot(kind='bar',color=\"b\",width =0.4)\n",
    "plt.xlabel(\"Country Name\")\n",
    "plt.ylabel(\"No. of shark attacks\")\n",
    "plt.title(\"No. of Attacks for each country\")\n",
    "plt.show()"
   ]
  },
  {
   "cell_type": "code",
   "execution_count": 29,
   "id": "60c8a85f",
   "metadata": {},
   "outputs": [
    {
     "data": {
      "image/png": "[encoded data removed]",
      "text/plain": [
       "<Figure size 640x480 with 1 Axes>"
      ]
     },
     "metadata": {},
     "output_type": "display_data"
    }
   ],
   "source": [
    "myexplode = [0.2, 0]\n",
    "mylabels = [\"Male\",\"Female\"]\n",
    "shark_df['Sex'].value_counts().head(10).plot(kind='pie',autopct='%1.1f%%',explode=myexplode ,labels =mylabels,shadow = True)\n",
    "plt.title('Percentage of shark attacks according to gender' )\n",
    "plt.axis('equal')\n",
    "plt.show() "
   ]
  },
  {
   "cell_type": "code",
   "execution_count": 30,
   "id": "aa2ff37e",
   "metadata": {},
   "outputs": [
    {
     "data": {
      "image/png": "[encoded data removed]",
      "text/plain": [
       "<Figure size 1600x400 with 1 Axes>"
      ]
     },
     "metadata": {},
     "output_type": "display_data"
    }
   ],
   "source": [
    "plt.figure(figsize=[16,4])\n",
    "shark_df['Fatal (Y/N)'].value_counts().head(10).plot(kind='bar',color=\"b\",width =0.4)\n",
    "plt.xlabel(\"Fatal (Y/N)\")\n",
    "plt.ylabel(\"No. of shark attacks\")\n",
    "plt.title(\"Fatal (Y/N)\")\n",
    "plt.show()"
   ]
  },
  {
   "cell_type": "code",
   "execution_count": 31,
   "id": "0c1a1937",
   "metadata": {},
   "outputs": [
    {
     "data": {
      "image/png": "[encoded data removed]",
      "text/plain": [
       "<Figure size 1600x400 with 1 Axes>"
      ]
     },
     "metadata": {},
     "output_type": "display_data"
    }
   ],
   "source": [
    "plt.figure(figsize=[16,4])\n",
    "shark_df['Species'].value_counts().head(5).plot(kind='bar',color=\"b\",width =0.4)\n",
    "plt.xlabel(\"Species\")\n",
    "plt.ylabel(\"No. of shark Species\")\n",
    "plt.title(\"Species of Sharks\")\n",
    "plt.show()"
   ]
  },
  {
   "cell_type": "code",
   "execution_count": null,
   "id": "c930c567",
   "metadata": {},
   "outputs": [],
   "source": []
  }
 ],
 "metadata": {
  "kernelspec": {
   "display_name": "Python 3 (ipykernel)",
   "language": "python",
   "name": "python3"
  },
  "language_info": {
   "codemirror_mode": {
    "name": "ipython",
    "version": 3
   },
   "file_extension": ".py",
   "mimetype": "text/x-python",
   "name": "python",
   "nbconvert_exporter": "python",
   "pygments_lexer": "ipython3",
   "version": "3.11.5"
  }
 },
 "nbformat": 4,
 "nbformat_minor": 5
}
